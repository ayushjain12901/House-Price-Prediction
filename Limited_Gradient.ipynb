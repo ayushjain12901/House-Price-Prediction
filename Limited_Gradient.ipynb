{
 "cells": [
  {
   "cell_type": "code",
   "execution_count": 61,
   "metadata": {},
   "outputs": [],
   "source": [
    "#importing libraries\n",
    "import numpy as np\n",
    "from sklearn.preprocessing import StandardScaler,MinMaxScaler,RobustScaler\n",
    "from sklearn.model_selection import train_test_split\n",
    "import pandas as pd\n",
    "from matplotlib import pyplot as plt\n",
    "from sklearn.metrics import mean_squared_error\n",
    "from sklearn.metrics import r2_score"
   ]
  },
  {
   "cell_type": "code",
   "execution_count": 62,
   "metadata": {},
   "outputs": [],
   "source": [
    "#reading csv file\n",
    "boston_dataset = pd.read_csv(\"boston.csv\")"
   ]
  },
  {
   "cell_type": "code",
   "execution_count": 63,
   "metadata": {},
   "outputs": [],
   "source": [
    "#loading data in pandas dataframe\n",
    "X = pd.DataFrame(boston_dataset[['rm','ptratio','black','lstat']], columns =['rm','ptratio','black','lstat'])\n",
    "Y = boston_dataset['medv']"
   ]
  },
  {
   "cell_type": "code",
   "execution_count": 64,
   "metadata": {},
   "outputs": [],
   "source": [
    "X_train, X_test, Y_train, Y_test = train_test_split(X, Y, test_size = 0.2, random_state=5)  #splitting data into train and test set\n",
    "trindex=list(X_train.index)\n",
    "teindex=list(X_test.index)\n",
    "\n",
    "#converting into array\n",
    "X_train=np.array(X_train)\n",
    "Y_train=np.array(Y_train)\n",
    "X_test=np.array(X_test)\n",
    "Y_test=np.array(Y_test)\n",
    "X_test1=X_test"
   ]
  },
  {
   "cell_type": "code",
   "execution_count": 65,
   "metadata": {},
   "outputs": [
    {
     "name": "stdout",
     "output_type": "stream",
     "text": [
      "\n",
      "shape of X_train is:  (392, 4)\n",
      "shape of Y_train is:  (392,)\n",
      "shape of X_test is:  (98, 4)\n",
      "shape of Y_test is:  (98,)\n"
     ]
    }
   ],
   "source": [
    "#printing shape of array\n",
    "print(\"\\nshape of X_train is: \",X_train.shape)\n",
    "print(\"shape of Y_train is: \",Y_train.shape)\n",
    "print(\"shape of X_test is: \",X_test.shape)\n",
    "print(\"shape of Y_test is: \",Y_test.shape)"
   ]
  },
  {
   "cell_type": "code",
   "execution_count": 66,
   "metadata": {},
   "outputs": [
    {
     "data": {
      "text/plain": [
       "StandardScaler(copy=True, with_mean=True, with_std=True)"
      ]
     },
     "execution_count": 66,
     "metadata": {},
     "output_type": "execute_result"
    }
   ],
   "source": [
    "#creating object of StandardScaler for standardization\n",
    "scaler=StandardScaler() \n",
    "\n",
    "#fitting into X_train\n",
    "scaler.fit(X_train) "
   ]
  },
  {
   "cell_type": "code",
   "execution_count": 67,
   "metadata": {},
   "outputs": [],
   "source": [
    "X_train = scaler.transform(X_train)\n",
    "X_test = scaler.transform(X_test)"
   ]
  },
  {
   "cell_type": "code",
   "execution_count": 68,
   "metadata": {},
   "outputs": [],
   "source": [
    "dummy=(np.ones([392,1],dtype=int)) \n",
    "\n",
    "# concatenating 1's for intercept calculation\n",
    "X_train=np.concatenate((dummy,X_train),axis=1) \n",
    "\n",
    "dummy_test=(np.ones([98,1],dtype=int))\n",
    "\n",
    "# concatenating 1's for intercept calculation\n",
    "X_test=np.concatenate((dummy_test,X_test),axis=1)"
   ]
  },
  {
   "cell_type": "code",
   "execution_count": 69,
   "metadata": {},
   "outputs": [
    {
     "name": "stdout",
     "output_type": "stream",
     "text": [
      "\n",
      "1. Stochastic Gradient Descent\n",
      "2. Batch Gradient Descent\n",
      "3. Mini-Batch Gradient Descent\n",
      "\n",
      "Enter your choice 3\n"
     ]
    }
   ],
   "source": [
    "print(\"\\n1. Stochastic Gradient Descent\")\n",
    "print(\"2. Batch Gradient Descent\")\n",
    "print(\"3. Mini-Batch Gradient Descent\")\n",
    "\n",
    "ch=eval(input(\"\\nEnter your choice \"))\n",
    "epochs=350"
   ]
  },
  {
   "cell_type": "code",
   "execution_count": 70,
   "metadata": {},
   "outputs": [],
   "source": [
    "#Mean-Squared-Error loss\n",
    "def calculate_error(theta):\n",
    "    error=0\n",
    "    for i in range(Y_train.shape[0]):\n",
    "        error+=np.square(np.dot(theta.transpose(),X_train[i])-Y_train[i])\n",
    "    mse=error/(2*Y_train.shape[0])\n",
    "    return mse"
   ]
  },
  {
   "cell_type": "code",
   "execution_count": 71,
   "metadata": {},
   "outputs": [],
   "source": [
    "#array with random values of coefficients\n",
    "theta=np.random.rand(5,1) \n",
    "\n",
    "# array for storing updated value of theta\n",
    "temp=np.ndarray([5,1]) \n",
    "\n",
    "#learning rate\n",
    "alpha=0.0086 "
   ]
  },
  {
   "cell_type": "code",
   "execution_count": 72,
   "metadata": {},
   "outputs": [
    {
     "data": {
      "image/png": "[encoded data removed]",
      "text/plain": [
       "<Figure size 432x288 with 1 Axes>"
      ]
     },
     "metadata": {
      "needs_background": "light"
     },
     "output_type": "display_data"
    },
    {
     "name": "stdout",
     "output_type": "stream",
     "text": [
      "initial value of mean square error was:  [194.12471203]\n",
      "reduced value of mean square error is:  [8.77248557]\n"
     ]
    }
   ],
   "source": [
    "#gradient descent calculation\n",
    "if ch==1:\n",
    "    y=[]\n",
    "    for epoch in range(epochs):\n",
    "        for j in range(5):\n",
    "            dif=0\n",
    "            for i in range(Y_train.shape[0]):\n",
    "                dif+=(np.dot(theta.transpose(),X_train[i].reshape([5,1])) - Y_train[i])*X_train[i][j]\n",
    "            temp[j] = theta[j] - (alpha/392)*(dif)\n",
    "            theta=temp   \n",
    "        y.append(calculate_error(theta))\n",
    "    plt.xlabel(\"Epochs\")\n",
    "    plt.ylabel(\"MSE\")\n",
    "    x=np.arange(0,epochs)\n",
    "    plt.plot(x,y,color='b')\n",
    "    plt.show()\n",
    "if ch==2:\n",
    "    y=[]\n",
    "    for epoch in range(epochs):\n",
    "        for j in range(5):\n",
    "            dif=0\n",
    "            for i in range(Y_train.shape[0]):\n",
    "                dif+=(np.dot(theta.transpose(),X_train[i].reshape([5,1])) - Y_train[i])*X_train[i][j]\n",
    "            temp[j] = theta[j] - (alpha/392)*(dif)\n",
    "        theta=temp\n",
    "        y.append(calculate_error(theta))\n",
    "    plt.xlabel(\"Epochs\")\n",
    "    plt.ylabel(\"MSE\")\n",
    "    x=np.arange(0,epochs)\n",
    "    plt.plot(x,y,color='b')\n",
    "    plt.show()\n",
    "if ch==3:\n",
    "    y=[]\n",
    "    batch_size=10\n",
    "    batches=Y_train.shape[0]//batch_size\n",
    "    for epoch in range(epochs):\n",
    "        for j in range(5):\n",
    "            dif=0\n",
    "            for batch in range(batches):\n",
    "                for i in range(batch*batch_size,batch*batch_size+batch_size):\n",
    "                    dif+=(np.dot(theta.transpose(),X_train[i].reshape([5,1])) - Y_train[i])*X_train[i][j]\n",
    "                temp[j] = theta[j] - (alpha/batch_size)*(dif)\n",
    "                theta=temp    \n",
    "        y.append(calculate_error(theta))\n",
    "    plt.xlabel(\"Epochs\")\n",
    "    plt.ylabel(\"MSE\")\n",
    "    x=np.arange(0,epochs)\n",
    "    plt.plot(x,y,color='b')\n",
    "    plt.show()\n",
    "print(\"initial value of mean square error was: \",y[0])\n",
    "print(\"reduced value of mean square error is: \",y[(len(y)-1)])"
   ]
  },
  {
   "cell_type": "code",
   "execution_count": 73,
   "metadata": {},
   "outputs": [
    {
     "name": "stdout",
     "output_type": "stream",
     "text": [
      "average percentage error in price prediction of train set is: 17.103694151816274% \n"
     ]
    }
   ],
   "source": [
    "#calculation of average percentage error in predicted price for train set\n",
    "per=[]\n",
    "for i in range(Y_train.shape[0]):\n",
    "    temp=((np.abs((np.dot(theta.T,X_train[i].reshape(5,1)))-(Y_train[i])))/(Y_train[i]))*100\n",
    "    per.append(temp)\n",
    "avgp=sum(per)/len(per)\n",
    "print(\"average percentage error in price prediction of train set is: {}% \".format(avgp[0][0]))"
   ]
  },
  {
   "cell_type": "code",
   "execution_count": 74,
   "metadata": {},
   "outputs": [
    {
     "name": "stdout",
     "output_type": "stream",
     "text": [
      "average percentage error in price prediction of test set is: 16.437665748561386% \n"
     ]
    }
   ],
   "source": [
    "#calculation of average percentage error in predicted price for test set\n",
    "per1=[]\n",
    "for i in range(Y_test.shape[0]):\n",
    "    temp=((np.abs((np.dot(theta.T,X_test[i].reshape(5,1)))-(Y_test[i])))/(Y_test[i]))*100\n",
    "    per1.append(temp)\n",
    "avgp1=sum(per1)/len(per1)\n",
    "print(\"average percentage error in price prediction of test set is: {}% \".format(avgp1[0][0]))"
   ]
  },
  {
   "cell_type": "code",
   "execution_count": 75,
   "metadata": {},
   "outputs": [],
   "source": [
    "#calculation of R2 and root mean square error for checking performance of train set\n",
    "lis=[]\n",
    "for i in range(Y_train.shape[0]):\n",
    "    temp=np.sum(np.dot(theta.T,X_train[i].reshape(5,1)))\n",
    "    lis.append(temp)\n",
    "Y_train_pred=np.array(lis)"
   ]
  },
  {
   "cell_type": "code",
   "execution_count": 76,
   "metadata": {},
   "outputs": [
    {
     "name": "stdout",
     "output_type": "stream",
     "text": [
      "value of R2 for train set is:  0.70819663967519\n",
      "RMSE value is:  4.188671762390509\n"
     ]
    }
   ],
   "source": [
    "r=r2_score(Y_train,Y_train_pred)\n",
    "print(\"value of R2 for train set is: \",r)\n",
    "rmse = (np.sqrt(mean_squared_error(Y_train,Y_train_pred)))\n",
    "print(\"RMSE value is: \",rmse)"
   ]
  },
  {
   "cell_type": "code",
   "execution_count": 77,
   "metadata": {},
   "outputs": [],
   "source": [
    "#calculation of R2 and root mean square error for checking performance of test set\n",
    "lis1=[]\n",
    "for i in range(Y_test.shape[0]):\n",
    "    temp=np.sum(np.dot(theta.T,X_test[i].reshape(5,1)))\n",
    "    lis1.append(temp)\n",
    "Y_test_pred=np.array(lis1)"
   ]
  },
  {
   "cell_type": "code",
   "execution_count": 78,
   "metadata": {},
   "outputs": [
    {
     "name": "stdout",
     "output_type": "stream",
     "text": [
      "value of R2 for test set is :  0.7562994151482868\n",
      "value of rmse for test set is :  4.07441227344886\n"
     ]
    }
   ],
   "source": [
    "r1=r2_score(Y_test,Y_test_pred)\n",
    "print(\"value of R2 for test set is : \",r1)\n",
    "rmse = (np.sqrt(mean_squared_error(Y_test,Y_test_pred)))\n",
    "print(\"value of rmse for test set is : \",rmse)"
   ]
  },
  {
   "cell_type": "code",
   "execution_count": 79,
   "metadata": {},
   "outputs": [],
   "source": [
    "import cv2\n",
    "img1 = cv2.imread('gallery.jpg',1)\n",
    "img2 = cv2.imread('hou2.jpg',1)\n",
    "img3 = cv2.imread('hou1.jog.jpg',1)\n"
   ]
  },
  {
   "cell_type": "code",
   "execution_count": 80,
   "metadata": {},
   "outputs": [
    {
     "name": "stdout",
     "output_type": "stream",
     "text": [
      "       rm  ptratio   black  lstat\n",
      "0   5.605     19.1  389.13  18.46\n",
      "1   5.976     20.2   10.48  19.01\n",
      "2   6.286     18.7  383.23   8.94\n",
      "3   6.481     16.6  379.41   6.36\n",
      "4   5.362     20.2  380.79  10.19\n",
      "5   6.398     20.2  374.56   7.79\n",
      "6   5.036     20.2  396.90  25.68\n",
      "7   6.728     20.2    6.68  18.71\n",
      "8   7.024     18.3  395.62   1.98\n",
      "9   7.163     17.4  372.08   6.36\n",
      "10  6.383     17.3  396.90   5.77\n",
      "11  6.490     19.7  396.90   5.98\n",
      "12  7.416     18.0  396.90   6.19\n",
      "13  6.461     20.2   27.49  18.05\n",
      "14  6.739     15.2  389.71   4.69\n",
      "15  6.021     17.8  394.51  10.30\n",
      "16  7.107     12.6  354.31   8.61\n",
      "17  5.597     14.7  351.85  21.45\n",
      "18  6.108     19.1  390.18   9.16\n",
      "19  6.487     19.1  396.28   5.90\n",
      "20  6.122     14.7  372.80  14.10\n",
      "21  6.630     19.2  396.90   4.70\n",
      "22  5.856     19.1  370.31  25.41\n",
      "23  6.229     20.2  383.32  13.11\n",
      "24  5.961     19.2  376.94   9.88\n",
      "25  6.326     18.6  394.87  10.97\n",
      "26  5.747     20.2  393.10  19.92\n",
      "27  7.313     20.2  396.90  13.44\n",
      "28  5.390     20.2  396.90  20.85\n",
      "29  5.983     20.1  390.11  18.07\n",
      "30  6.538     18.6  394.96   7.73\n",
      "31  5.000     20.2  396.90  31.99\n",
      "32  7.454     15.9  386.34   3.11\n",
      "33  6.009     16.0  396.90  10.40\n",
      "34  5.868     16.9  382.44   9.97\n",
      "35  4.973     18.4  350.45  12.64\n",
      "36  7.041     14.8  371.58   4.74\n",
      "37  6.495     16.1  383.61   8.67\n",
      "38  5.790     16.0  396.90  15.84\n",
      "39  5.854     20.2  240.52  23.79\n",
      "40  5.453     20.2  396.90  30.59\n",
      "41  6.326     21.2  396.90  12.26\n",
      "42  6.516     17.9  392.43   6.36\n",
      "43  6.976     21.0  396.90   5.64\n",
      "44  6.014     18.8  385.64  10.53\n",
      "45  6.096     21.0  248.31  20.34\n",
      "46  8.398     13.0  386.86   5.91\n",
      "47  6.718     19.1  393.74   6.56\n",
      "48  5.963     16.8  395.56  13.45\n",
      "49  6.006     20.2  319.98  15.70\n",
      "\n",
      "enter the index no from above data for which you want to predict price: 11\n",
      "\n",
      "PREDICTED PRICE OF HOUSE IS:  25.375976264538785\n",
      "ORIGINAL PRICE OF HOUSE IS :  22.9\n",
      "\n",
      "image of your house is as below\n"
     ]
    }
   ],
   "source": [
    "#Predicting prices\n",
    "flag=0\n",
    "temp=X_test1[0:50]\n",
    "df=pd.DataFrame(temp,columns=['rm','ptratio','black','lstat'])\n",
    "print(df)\n",
    "\n",
    "ind=int(input(\"\\nenter the index no from above data for which you want to predict price: \"))\n",
    "price=np.dot(theta.transpose(),X_test[ind].reshape(5,1))\n",
    "if(ind<20):\n",
    "    flag=1\n",
    "elif(ind>=20 and ind<=35):\n",
    "    flag=2\n",
    "else:\n",
    "    flag=3\n",
    "print(\"\\nPREDICTED PRICE OF HOUSE IS: \",price[0][0])\n",
    "print(\"ORIGINAL PRICE OF HOUSE IS : \",Y_test[ind])\n",
    "print(\"\\nimage of your house is as below\")\n",
    "\n",
    "    \n",
    "if(flag==1):\n",
    "    cv2.imshow('image1',img1)\n",
    "    cv2.waitKey(0)\n",
    "    cv2.destroyAllWindows()\n",
    "elif(flag==2):\n",
    "    cv2.imshow('image2',img2)\n",
    "    cv2.waitKey(0)\n",
    "    cv2.destroyAllWindows()\n",
    "elif(flag==3):\n",
    "    cv2.imshow('image3',img3)\n",
    "    cv2.waitKey(0)\n",
    "    cv2.destroyAllWindows()"
   ]
  },
  {
   "cell_type": "code",
   "execution_count": null,
   "metadata": {},
   "outputs": [],
   "source": []
  }
 ],
 "metadata": {
  "kernelspec": {
   "display_name": "Python 3",
   "language": "python",
   "name": "python3"
  },
  "language_info": {
   "codemirror_mode": {
    "name": "ipython",
    "version": 3
   },
   "file_extension": ".py",
   "mimetype": "text/x-python",
   "name": "python",
   "nbconvert_exporter": "python",
   "pygments_lexer": "ipython3",
   "version": "3.7.4"
  }
 },
 "nbformat": 4,
 "nbformat_minor": 2
}

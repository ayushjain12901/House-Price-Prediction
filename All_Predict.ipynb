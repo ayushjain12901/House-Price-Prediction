{
 "cells": [
  {
   "cell_type": "code",
   "execution_count": 22,
   "metadata": {},
   "outputs": [],
   "source": [
    "import numpy as np\n",
    "import matplotlib.pyplot as plt \n",
    "import pandas as pd  \n",
    "import seaborn as sns \n",
    "from sklearn.metrics import mean_squared_error,r2_score\n",
    "from sklearn.model_selection import train_test_split\n",
    "from sklearn.preprocessing import MinMaxScaler\n",
    "from sklearn.linear_model import LinearRegression"
   ]
  },
  {
   "cell_type": "code",
   "execution_count": 23,
   "metadata": {},
   "outputs": [
    {
     "name": "stdout",
     "output_type": "stream",
     "text": [
      "        crim    zn  indus  chas    nox     rm   age     dis  rad  tax  \\\n",
      "0    0.00632  18.0   2.31     0  0.538  6.575  65.2  4.0900    1  296   \n",
      "1    0.02731   0.0   7.07     0  0.469  6.421  78.9  4.9671    2  242   \n",
      "2    0.02729   0.0   7.07     0  0.469  7.185  61.1  4.9671    2  242   \n",
      "3    0.03237   0.0   2.18     0  0.458  6.998  45.8  6.0622    3  222   \n",
      "4    0.06905   0.0   2.18     0  0.458  7.147  54.2  6.0622    3  222   \n",
      "..       ...   ...    ...   ...    ...    ...   ...     ...  ...  ...   \n",
      "485  0.06263   0.0  11.93     0  0.573  6.593  69.1  2.4786    1  273   \n",
      "486  0.04527   0.0  11.93     0  0.573  6.120  76.7  2.2875    1  273   \n",
      "487  0.06076   0.0  11.93     0  0.573  6.976  91.0  2.1675    1  273   \n",
      "488  0.10959   0.0  11.93     0  0.573  6.794  89.3  2.3889    1  273   \n",
      "489  0.04741   0.0  11.93     0  0.573  6.030  80.8  2.5050    1  273   \n",
      "\n",
      "     ptratio   black  lstat  medv  \n",
      "0       15.3  396.90   4.98  24.0  \n",
      "1       17.8  396.90   9.14  21.6  \n",
      "2       17.8  392.83   4.03  34.7  \n",
      "3       18.7  394.63   2.94  33.4  \n",
      "4       18.7  396.90   5.33  36.2  \n",
      "..       ...     ...    ...   ...  \n",
      "485     21.0  391.99   9.67  22.4  \n",
      "486     21.0  396.90   9.08  20.6  \n",
      "487     21.0  396.90   5.64  23.9  \n",
      "488     21.0  393.45   6.48  22.0  \n",
      "489     21.0  396.90   7.88  11.9  \n",
      "\n",
      "[490 rows x 14 columns]\n"
     ]
    }
   ],
   "source": [
    "#reading csv file\n",
    "boston_dataset = pd.read_csv(\"boston.csv\")\n",
    "print(boston_dataset)"
   ]
  },
  {
   "cell_type": "code",
   "execution_count": 24,
   "metadata": {},
   "outputs": [],
   "source": [
    "#loading data in pandas dataframe and series\n",
    "X = pd.DataFrame(boston_dataset[['crim','zn','indus','chas','nox','rm','age','dis','rad','tax','ptratio','black','lstat']], columns =['crim','zn','indus','chas','nox','rm','age','dis','rad','tax','ptratio','black','lstat'])\n",
    "Y = boston_dataset['medv']"
   ]
  },
  {
   "cell_type": "code",
   "execution_count": 25,
   "metadata": {},
   "outputs": [
    {
     "data": {
      "text/html": [
       "<div>\n",
       "<style scoped>\n",
       "    .dataframe tbody tr th:only-of-type {\n",
       "        vertical-align: middle;\n",
       "    }\n",
       "\n",
       "    .dataframe tbody tr th {\n",
       "        vertical-align: top;\n",
       "    }\n",
       "\n",
       "    .dataframe thead th {\n",
       "        text-align: right;\n",
       "    }\n",
       "</style>\n",
       "<table border=\"1\" class=\"dataframe\">\n",
       "  <thead>\n",
       "    <tr style=\"text-align: right;\">\n",
       "      <th></th>\n",
       "      <th>crim</th>\n",
       "      <th>zn</th>\n",
       "      <th>indus</th>\n",
       "      <th>chas</th>\n",
       "      <th>nox</th>\n",
       "      <th>rm</th>\n",
       "      <th>age</th>\n",
       "      <th>dis</th>\n",
       "      <th>rad</th>\n",
       "      <th>tax</th>\n",
       "      <th>ptratio</th>\n",
       "      <th>black</th>\n",
       "      <th>lstat</th>\n",
       "    </tr>\n",
       "  </thead>\n",
       "  <tbody>\n",
       "    <tr>\n",
       "      <td>count</td>\n",
       "      <td>4.900000e+02</td>\n",
       "      <td>4.900000e+02</td>\n",
       "      <td>4.900000e+02</td>\n",
       "      <td>4.900000e+02</td>\n",
       "      <td>4.900000e+02</td>\n",
       "      <td>4.900000e+02</td>\n",
       "      <td>4.900000e+02</td>\n",
       "      <td>4.900000e+02</td>\n",
       "      <td>4.900000e+02</td>\n",
       "      <td>4.900000e+02</td>\n",
       "      <td>4.900000e+02</td>\n",
       "      <td>4.900000e+02</td>\n",
       "      <td>4.900000e+02</td>\n",
       "    </tr>\n",
       "    <tr>\n",
       "      <td>mean</td>\n",
       "      <td>-2.704753e-17</td>\n",
       "      <td>1.047915e-16</td>\n",
       "      <td>-5.367447e-16</td>\n",
       "      <td>-3.894277e-17</td>\n",
       "      <td>-3.251934e-16</td>\n",
       "      <td>-1.816461e-15</td>\n",
       "      <td>-2.565408e-16</td>\n",
       "      <td>1.592547e-16</td>\n",
       "      <td>1.468213e-16</td>\n",
       "      <td>6.978545e-17</td>\n",
       "      <td>-9.282824e-16</td>\n",
       "      <td>1.825722e-15</td>\n",
       "      <td>-1.976877e-17</td>\n",
       "    </tr>\n",
       "    <tr>\n",
       "      <td>std</td>\n",
       "      <td>9.803491e-02</td>\n",
       "      <td>2.284463e-01</td>\n",
       "      <td>2.526408e-01</td>\n",
       "      <td>2.362093e-01</td>\n",
       "      <td>2.400983e-01</td>\n",
       "      <td>1.251480e-01</td>\n",
       "      <td>2.900596e-01</td>\n",
       "      <td>1.919967e-01</td>\n",
       "      <td>3.778825e-01</td>\n",
       "      <td>3.207351e-01</td>\n",
       "      <td>2.245190e-01</td>\n",
       "      <td>2.335828e-01</td>\n",
       "      <td>1.968097e-01</td>\n",
       "    </tr>\n",
       "    <tr>\n",
       "      <td>min</td>\n",
       "      <td>-4.087812e-02</td>\n",
       "      <td>-1.111224e-01</td>\n",
       "      <td>-3.841905e-01</td>\n",
       "      <td>-5.918367e-02</td>\n",
       "      <td>-3.483690e-01</td>\n",
       "      <td>-5.143651e-01</td>\n",
       "      <td>-6.733160e-01</td>\n",
       "      <td>-2.454633e-01</td>\n",
       "      <td>-3.701863e-01</td>\n",
       "      <td>-4.217596e-01</td>\n",
       "      <td>-6.297872e-01</td>\n",
       "      <td>-8.965037e-01</td>\n",
       "      <td>-3.040850e-01</td>\n",
       "    </tr>\n",
       "    <tr>\n",
       "      <td>25%</td>\n",
       "      <td>-4.002699e-02</td>\n",
       "      <td>-1.111224e-01</td>\n",
       "      <td>-2.193757e-01</td>\n",
       "      <td>-5.918367e-02</td>\n",
       "      <td>-2.166818e-01</td>\n",
       "      <td>-6.983549e-02</td>\n",
       "      <td>-2.443767e-01</td>\n",
       "      <td>-1.568287e-01</td>\n",
       "      <td>-2.397516e-01</td>\n",
       "      <td>-2.438016e-01</td>\n",
       "      <td>-1.191489e-01</td>\n",
       "      <td>5.057504e-02</td>\n",
       "      <td>-1.549464e-01</td>\n",
       "    </tr>\n",
       "    <tr>\n",
       "      <td>50%</td>\n",
       "      <td>-3.816720e-02</td>\n",
       "      <td>-1.111224e-01</td>\n",
       "      <td>-5.270899e-02</td>\n",
       "      <td>-5.918367e-02</td>\n",
       "      <td>-3.355421e-02</td>\n",
       "      <td>-1.158678e-02</td>\n",
       "      <td>8.775510e-02</td>\n",
       "      <td>-5.083205e-02</td>\n",
       "      <td>-1.962733e-01</td>\n",
       "      <td>-1.488589e-01</td>\n",
       "      <td>6.170213e-02</td>\n",
       "      <td>9.056067e-02</td>\n",
       "      <td>-3.470465e-02</td>\n",
       "    </tr>\n",
       "    <tr>\n",
       "      <td>75%</td>\n",
       "      <td>4.699355e-05</td>\n",
       "      <td>1.387755e-02</td>\n",
       "      <td>2.587725e-01</td>\n",
       "      <td>-5.918367e-02</td>\n",
       "      <td>1.434005e-01</td>\n",
       "      <td>6.371500e-02</td>\n",
       "      <td>2.636047e-01</td>\n",
       "      <td>1.255818e-01</td>\n",
       "      <td>6.298137e-01</td>\n",
       "      <td>4.923625e-01</td>\n",
       "      <td>1.787234e-01</td>\n",
       "      <td>1.020401e-01</td>\n",
       "      <td>1.165179e-01</td>\n",
       "    </tr>\n",
       "    <tr>\n",
       "      <td>max</td>\n",
       "      <td>9.591219e-01</td>\n",
       "      <td>8.888776e-01</td>\n",
       "      <td>6.158095e-01</td>\n",
       "      <td>9.408163e-01</td>\n",
       "      <td>6.516310e-01</td>\n",
       "      <td>4.856349e-01</td>\n",
       "      <td>3.266840e-01</td>\n",
       "      <td>7.545367e-01</td>\n",
       "      <td>6.298137e-01</td>\n",
       "      <td>5.782404e-01</td>\n",
       "      <td>3.702128e-01</td>\n",
       "      <td>1.034963e-01</td>\n",
       "      <td>6.959150e-01</td>\n",
       "    </tr>\n",
       "  </tbody>\n",
       "</table>\n",
       "</div>"
      ],
      "text/plain": [
       "               crim            zn         indus          chas           nox  \\\n",
       "count  4.900000e+02  4.900000e+02  4.900000e+02  4.900000e+02  4.900000e+02   \n",
       "mean  -2.704753e-17  1.047915e-16 -5.367447e-16 -3.894277e-17 -3.251934e-16   \n",
       "std    9.803491e-02  2.284463e-01  2.526408e-01  2.362093e-01  2.400983e-01   \n",
       "min   -4.087812e-02 -1.111224e-01 -3.841905e-01 -5.918367e-02 -3.483690e-01   \n",
       "25%   -4.002699e-02 -1.111224e-01 -2.193757e-01 -5.918367e-02 -2.166818e-01   \n",
       "50%   -3.816720e-02 -1.111224e-01 -5.270899e-02 -5.918367e-02 -3.355421e-02   \n",
       "75%    4.699355e-05  1.387755e-02  2.587725e-01 -5.918367e-02  1.434005e-01   \n",
       "max    9.591219e-01  8.888776e-01  6.158095e-01  9.408163e-01  6.516310e-01   \n",
       "\n",
       "                 rm           age           dis           rad           tax  \\\n",
       "count  4.900000e+02  4.900000e+02  4.900000e+02  4.900000e+02  4.900000e+02   \n",
       "mean  -1.816461e-15 -2.565408e-16  1.592547e-16  1.468213e-16  6.978545e-17   \n",
       "std    1.251480e-01  2.900596e-01  1.919967e-01  3.778825e-01  3.207351e-01   \n",
       "min   -5.143651e-01 -6.733160e-01 -2.454633e-01 -3.701863e-01 -4.217596e-01   \n",
       "25%   -6.983549e-02 -2.443767e-01 -1.568287e-01 -2.397516e-01 -2.438016e-01   \n",
       "50%   -1.158678e-02  8.775510e-02 -5.083205e-02 -1.962733e-01 -1.488589e-01   \n",
       "75%    6.371500e-02  2.636047e-01  1.255818e-01  6.298137e-01  4.923625e-01   \n",
       "max    4.856349e-01  3.266840e-01  7.545367e-01  6.298137e-01  5.782404e-01   \n",
       "\n",
       "            ptratio         black         lstat  \n",
       "count  4.900000e+02  4.900000e+02  4.900000e+02  \n",
       "mean  -9.282824e-16  1.825722e-15 -1.976877e-17  \n",
       "std    2.245190e-01  2.335828e-01  1.968097e-01  \n",
       "min   -6.297872e-01 -8.965037e-01 -3.040850e-01  \n",
       "25%   -1.191489e-01  5.057504e-02 -1.549464e-01  \n",
       "50%    6.170213e-02  9.056067e-02 -3.470465e-02  \n",
       "75%    1.787234e-01  1.020401e-01  1.165179e-01  \n",
       "max    3.702128e-01  1.034963e-01  6.959150e-01  "
      ]
     },
     "execution_count": 25,
     "metadata": {},
     "output_type": "execute_result"
    }
   ],
   "source": [
    "#normalizing data values\n",
    "bost=(X-X.mean())/(X.max()-X.min())\n",
    "bost.describe()"
   ]
  },
  {
   "cell_type": "code",
   "execution_count": 26,
   "metadata": {},
   "outputs": [],
   "source": [
    "#splitting into train and test dataset\n",
    "X_train, X_test, Y_train, Y_test = train_test_split(bost, Y, test_size = 0.2, random_state=5)\n",
    "\n",
    "# loading index of randomly splitted data\n",
    "trindex=list(X_train.index)\n",
    "\n",
    "# loading index of randomly splitted data\n",
    "teindex=list(X_test.index)\n",
    "\n",
    "X_train=np.array(X_train)\n",
    "Y_train=np.array(Y_train)\n",
    "X_test=np.array(X_test)\n",
    "Y_test=np.array(Y_test)\n",
    "X_test1=X_test"
   ]
  },
  {
   "cell_type": "code",
   "execution_count": 27,
   "metadata": {},
   "outputs": [
    {
     "name": "stdout",
     "output_type": "stream",
     "text": [
      "Shape Of X_train is:  (392, 13)\n",
      "Shape Of Y_train is:  (392,)\n",
      "Shape Of X_test is:  (98, 13)\n",
      "Shape Of Y_test is:  (98,)\n"
     ]
    }
   ],
   "source": [
    "print(\"Shape Of X_train is: \",X_train.shape)\n",
    "print(\"Shape Of Y_train is: \",Y_train.shape)\n",
    "print(\"Shape Of X_test is: \",X_test.shape)\n",
    "print(\"Shape Of Y_test is: \",Y_test.shape)"
   ]
  },
  {
   "cell_type": "code",
   "execution_count": 28,
   "metadata": {},
   "outputs": [
    {
     "name": "stdout",
     "output_type": "stream",
     "text": [
      "value of coefficients of line are:  [-10.30991906   2.44026089  -2.59498795   0.53547238  -5.96656325\n",
      "  17.82177041  -3.16594254 -13.23432847   5.87334182  -6.59748865\n",
      "  -7.65812028   3.21428589 -12.14937172]\n",
      "vaue of intercept of line is:  21.63759196554325\n"
     ]
    }
   ],
   "source": [
    "#fitting linear regression line\n",
    "\n",
    "# creating object of LinearRegression\n",
    "lin = LinearRegression() \n",
    "\n",
    "# fitting line in data values\n",
    "lin.fit(X_train,Y_train)\n",
    "\n",
    "print(\"value of coefficients of line are: \",lin.coef_)\n",
    "print(\"vaue of intercept of line is: \",lin.intercept_)"
   ]
  },
  {
   "cell_type": "code",
   "execution_count": 29,
   "metadata": {},
   "outputs": [
    {
     "name": "stdout",
     "output_type": "stream",
     "text": [
      "average percentage error in price prediction of train set is: 14.70098452387357% \n"
     ]
    }
   ],
   "source": [
    "#calculation of average percentage error in predicted price for train set\n",
    "per=[]\n",
    "import math\n",
    "for i in range(Y_train.shape[0]):\n",
    "    Val=lin.predict([X_train[i]])\n",
    "    temp=(np.abs(Val-(Y_train[i]))/(Y_train[i]))*100\n",
    "    per.append(temp)\n",
    "avgp=sum(per)/len(per)\n",
    "print(\"average percentage error in price prediction of train set is: {}% \".format(avgp[0]))"
   ]
  },
  {
   "cell_type": "code",
   "execution_count": 30,
   "metadata": {},
   "outputs": [
    {
     "name": "stdout",
     "output_type": "stream",
     "text": [
      "average percentage error in price prediction of test set is: 14.161691079347928% \n"
     ]
    }
   ],
   "source": [
    "#calculation of average percentage error in predicted price for test set\n",
    "per1=[]\n",
    "import math\n",
    "for i in range(Y_test.shape[0]):\n",
    "    Val=lin.predict([X_test[i]])\n",
    "    temp=(np.abs(Val-(Y_test[i]))/(Y_test[i]))*100\n",
    "    per1.append(temp)\n",
    "avgp1=sum(per1)/len(per1)\n",
    "print(\"average percentage error in price prediction of test set is: {}% \".format(avgp1[0]))"
   ]
  },
  {
   "cell_type": "code",
   "execution_count": 31,
   "metadata": {},
   "outputs": [
    {
     "name": "stdout",
     "output_type": "stream",
     "text": [
      "value of R2 for train set is:  0.7665679486556898\n",
      "Root mean square value for train set is:  3.7463765629166255\n"
     ]
    }
   ],
   "source": [
    "#calculation of R2 and root mean square error for checking performance of train set\n",
    "Y_train_predict = lin.predict(X_train)\n",
    "rmse = (np.sqrt(mean_squared_error(Y_train, Y_train_predict)))\n",
    "r=r2_score(Y_train,Y_train_predict)\n",
    "print(\"value of R2 for train set is: \",r)\n",
    "print(\"Root mean square value for train set is: \",rmse)"
   ]
  },
  {
   "cell_type": "code",
   "execution_count": 32,
   "metadata": {},
   "outputs": [
    {
     "name": "stdout",
     "output_type": "stream",
     "text": [
      "value of R2 for test set is:  0.8057832692732433\n",
      "Root mean square value for test set is:  3.637307393136211\n"
     ]
    }
   ],
   "source": [
    "#calculation of R2 and root mean square error for checking performance of test set\n",
    "Y_test_predict = lin.predict(X_test)\n",
    "rmse2 = (np.sqrt(mean_squared_error(Y_test, Y_test_predict)))\n",
    "r2 = r2_score(Y_test, Y_test_predict)\n",
    "print(\"value of R2 for test set is: \",r2)\n",
    "print(\"Root mean square value for test set is: \",rmse2)"
   ]
  },
  {
   "cell_type": "code",
   "execution_count": 33,
   "metadata": {},
   "outputs": [
    {
     "name": "stdout",
     "output_type": "stream",
     "text": [
      "Requirement already satisfied: opencv-python in c:\\users\\parth jasani\\anaconda3\\lib\\site-packages (4.2.0.34)\n",
      "Requirement already satisfied: numpy>=1.14.5 in c:\\users\\parth jasani\\anaconda3\\lib\\site-packages (from opencv-python) (1.16.5)\n"
     ]
    }
   ],
   "source": [
    "!pip install opencv-python\n",
    "import cv2"
   ]
  },
  {
   "cell_type": "code",
   "execution_count": 34,
   "metadata": {},
   "outputs": [],
   "source": [
    "img1 = cv2.imread('gallery.jpg',1)\n",
    "img2 = cv2.imread('hou2.jpg',1)\n",
    "img3 = cv2.imread('hou1.jog.jpg',1)\n"
   ]
  },
  {
   "cell_type": "code",
   "execution_count": 35,
   "metadata": {},
   "outputs": [
    {
     "name": "stdout",
     "output_type": "stream",
     "text": [
      "Below data is in NORMALIZED FORM\n",
      "        crim        zn     indus      chas       nox        rm       age  \\\n",
      "0  -0.038799  0.108878 -0.194561 -0.059184 -0.253719 -0.122719  0.019784   \n",
      "1   0.011527 -0.111122  0.258772 -0.059184  0.326528 -0.051633  0.202070   \n",
      "2  -0.039880 -0.111122  0.063587 -0.059184 -0.241373  0.007766 -0.239742   \n",
      "3  -0.040023  0.188878 -0.229005 -0.059184 -0.259892  0.045129 -0.512657   \n",
      "4   0.000393 -0.111122  0.258772 -0.059184  0.443812 -0.169280  0.287549   \n",
      "5   0.010101 -0.111122  0.258772 -0.059184  0.443812  0.029226  0.203100   \n",
      "6   0.089184 -0.111122  0.258772 -0.059184  0.299779 -0.231744  0.295788   \n",
      "7   0.065982 -0.111122  0.258772 -0.059184  0.326528  0.092456  0.265922   \n",
      "8  -0.040572  0.638878 -0.302339 -0.059184 -0.259892  0.149172 -0.540463   \n",
      "9  -0.036314 -0.111122 -0.181968 -0.059184 -0.103513  0.175805  0.119681   \n",
      "10 -0.040718  0.738878 -0.384190 -0.059184 -0.296929  0.026352 -0.335520   \n",
      "11 -0.040251  0.288878 -0.365302 -0.059184 -0.257834  0.046854 -0.245922   \n",
      "12 -0.040178 -0.111122 -0.304561 -0.059184 -0.224912  0.224282 -0.059516   \n",
      "13  0.121137 -0.111122  0.258772 -0.059184  0.382084  0.041297  0.257683   \n",
      "14 -0.040172  0.338878 -0.284190 -0.059184 -0.241373  0.094564 -0.385983   \n",
      "15 -0.039252 -0.111122 -0.040857 -0.059184 -0.015036 -0.043010  0.147487   \n",
      "16 -0.040425  0.688878 -0.355302 -0.059184 -0.309274  0.165075 -0.326251   \n",
      "17 -0.010220 -0.111122  0.313587 -0.059184  0.651631 -0.124252  0.274161   \n",
      "18 -0.037130  0.108878 -0.194561 -0.059184 -0.253719 -0.026341 -0.343759   \n",
      "19 -0.039372  0.108878 -0.194561 -0.059184 -0.253719  0.046279 -0.569299   \n",
      "20 -0.022329 -0.111122  0.313587 -0.059184  0.651631 -0.023658  0.298878   \n",
      "21 -0.040543  0.688878 -0.228265 -0.059184 -0.294871  0.073679 -0.462193   \n",
      "22 -0.039259 -0.111122  0.538402 -0.059184  0.054923 -0.074626  0.295788   \n",
      "23  0.120158 -0.111122  0.258772 -0.059184  0.122824 -0.003156  0.203100   \n",
      "24 -0.039165 -0.111122 -0.011228 -0.059184 -0.290756 -0.054507 -0.522956   \n",
      "25 -0.038367 -0.111122 -0.019376 -0.059184 -0.134377  0.015430 -0.162502   \n",
      "26  0.045282 -0.111122  0.258772 -0.059184  0.285376 -0.095511  0.315356   \n",
      "27  0.179452 -0.111122  0.258772 -0.059184  0.240108  0.204547  0.305057   \n",
      "28  0.050674 -0.111122  0.258772 -0.059184  0.299779 -0.163915  0.315356   \n",
      "29 -0.039761 -0.111122  0.615810 -0.059184  0.112536 -0.050292  0.314326   \n",
      "30 -0.039661  0.088878 -0.153820 -0.059184 -0.185818  0.056051 -0.098651   \n",
      "31  0.213037 -0.111122  0.258772 -0.059184  0.299779 -0.238642  0.218548   \n",
      "32 -0.040776  0.788878 -0.272709 -0.059184 -0.329851  0.231563 -0.350968   \n",
      "33 -0.040028 -0.111122  0.103958 -0.059184 -0.241373 -0.045310 -0.267549   \n",
      "34 -0.040205 -0.111122 -0.291598 -0.059184 -0.194048 -0.072326 -0.437477   \n",
      "35 -0.011327 -0.111122 -0.044931 -0.059184 -0.021209 -0.243815 -0.313893   \n",
      "36 -0.040324  0.588878 -0.328635 -0.059184 -0.317505  0.152429 -0.600195   \n",
      "37 -0.039908  0.228878 -0.186042 -0.059184 -0.249604  0.047812 -0.513687   \n",
      "38 -0.039364 -0.111122  0.103958 -0.059184 -0.241373 -0.087272 -0.105860   \n",
      "39  0.102946 -0.111122  0.258772 -0.059184  0.382084 -0.075009  0.291669   \n",
      "40  0.390116 -0.111122  0.258772 -0.059184  0.285376 -0.151844  0.326684   \n",
      "41 -0.027541 -0.111122  0.399143 -0.059184  0.143401  0.015430  0.302997   \n",
      "42 -0.040739  0.738878 -0.257894 -0.059184 -0.257834  0.051835 -0.417909   \n",
      "43 -0.040266 -0.111122  0.030254 -0.059184  0.038462  0.139975  0.233996   \n",
      "44 -0.040599 -0.111122 -0.249005 -0.059184 -0.231085 -0.044352 -0.203697   \n",
      "45 -0.022821 -0.111122 -0.110116 -0.059184 -0.033554 -0.028640  0.294758   \n",
      "46 -0.035103  0.088878 -0.264561 -0.059184  0.190726  0.412441  0.239145   \n",
      "47 -0.038805  0.108878 -0.194561 -0.059184 -0.253719  0.090540 -0.522956   \n",
      "48 -0.039952  0.098878 -0.202709 -0.059184 -0.237258 -0.054124 -0.232533   \n",
      "49  0.037983 -0.111122  0.258772 -0.059184  0.336816 -0.045885  0.278280   \n",
      "\n",
      "         dis       rad       tax   ptratio     black     lstat  \n",
      "0   0.374938 -0.109317 -0.148859  0.061702  0.083904  0.153820  \n",
      "1  -0.114102  0.629814  0.492363  0.178723 -0.870885  0.169102  \n",
      "2   0.060793 -0.196273 -0.019088  0.019149  0.069027 -0.110698  \n",
      "3   0.214330 -0.152795 -0.206111 -0.204255  0.059394 -0.182385  \n",
      "4  -0.157507  0.629814  0.492363  0.178723  0.062874 -0.075966  \n",
      "5  -0.119780  0.629814  0.492363  0.178723  0.047165 -0.142651  \n",
      "6  -0.187863  0.629814  0.492363  0.178723  0.103496  0.354431  \n",
      "7  -0.121791  0.629814  0.492363  0.178723 -0.880467  0.160766  \n",
      "8   0.142553 -0.283230 -0.297714 -0.023404  0.100269 -0.304085  \n",
      "9  -0.056310 -0.065839 -0.192752 -0.119149  0.040911 -0.182385  \n",
      "10  0.487109 -0.326708 -0.181302 -0.129787  0.103496 -0.198778  \n",
      "11  0.451120 -0.370186 -0.139317  0.125532  0.103496 -0.192943  \n",
      "12 -0.030877 -0.326708 -0.251912 -0.055319  0.103496 -0.187108  \n",
      "13 -0.166697  0.629814  0.492363  0.178723 -0.827993  0.142428  \n",
      "14  0.240710 -0.196273 -0.019088 -0.353191  0.085366 -0.228786  \n",
      "15 -0.098923 -0.152795  0.045798 -0.076596  0.097470 -0.072910  \n",
      "16  0.316164 -0.326708 -0.150767 -0.629787 -0.003897 -0.119867  \n",
      "17 -0.210093 -0.196273 -0.009546 -0.406383 -0.010100  0.236899  \n",
      "18  0.384092 -0.109317 -0.148859  0.061702  0.086551 -0.104585  \n",
      "19  0.324144 -0.109317 -0.148859  0.061702  0.101933 -0.195166  \n",
      "20 -0.201694 -0.196273 -0.009546 -0.406383  0.042727  0.032675  \n",
      "21  0.116673 -0.239752 -0.311073  0.072340  0.103496 -0.228508  \n",
      "22 -0.171993 -0.326708 -0.419851  0.061702  0.036448  0.346929  \n",
      "23 -0.171374  0.629814  0.492363  0.178723  0.069253  0.005168  \n",
      "24  0.132197 -0.239752 -0.196569  0.072340  0.053166 -0.084580  \n",
      "25  0.047353 -0.239752 -0.250004  0.008511  0.098378 -0.054293  \n",
      "26 -0.200293  0.629814  0.492363  0.178723  0.093914  0.194387  \n",
      "27 -0.229148  0.629814  0.492363  0.178723  0.103496  0.014337  \n",
      "28 -0.191676  0.629814  0.492363  0.178723  0.103496  0.220227  \n",
      "29 -0.178936 -0.239752  0.578240  0.168085  0.086375  0.142984  \n",
      "30  0.007551 -0.283230 -0.353057  0.008511  0.098604 -0.144318  \n",
      "31 -0.210757  0.629814  0.492363  0.178723  0.103496  0.529758  \n",
      "32  0.227634 -0.283230 -0.312981 -0.278723  0.076869 -0.272687  \n",
      "33  0.151798 -0.239752 -0.227103 -0.268085  0.103496 -0.070131  \n",
      "34  0.125582 -0.239752  0.041981 -0.172340  0.067035 -0.082079  \n",
      "35 -0.119670 -0.239752 -0.198477 -0.012766 -0.013630 -0.007892  \n",
      "36  0.363372 -0.196273 -0.095424 -0.395745  0.039650 -0.227397  \n",
      "37  0.150797 -0.109317 -0.150767 -0.257447  0.069985 -0.118200  \n",
      "38  0.226169 -0.239752 -0.227103 -0.268085  0.103496  0.081022  \n",
      "39 -0.176434  0.629814  0.492363  0.178723 -0.290825  0.301917  \n",
      "40 -0.213378  0.629814  0.492363  0.178723  0.103496  0.490858  \n",
      "41 -0.142274 -0.239752  0.055340  0.285106  0.103496 -0.018450  \n",
      "42  0.427752 -0.239752 -0.108783 -0.065957  0.092225 -0.182385  \n",
      "43 -0.151692 -0.370186 -0.257637  0.263830  0.103496 -0.202390  \n",
      "44  0.380279 -0.283230 -0.106874  0.029787  0.075104 -0.066519  \n",
      "45 -0.006799 -0.239752 -0.192752  0.263830 -0.271182  0.206057  \n",
      "46 -0.140681 -0.196273 -0.274813 -0.587234  0.078180 -0.194888  \n",
      "47  0.363254 -0.109317 -0.148859  0.061702  0.095528 -0.176827  \n",
      "48  0.271184 -0.239752 -0.314889 -0.182979  0.100117  0.014615  \n",
      "49 -0.178345  0.629814  0.492363  0.178723 -0.090462  0.077132  \n"
     ]
    }
   ],
   "source": [
    "# Predicting prices\n",
    "flag=0\n",
    "temp=X_test1[0:50]\n",
    "df=pd.DataFrame(temp,columns=['crim','zn','indus','chas','nox','rm','age','dis','rad','tax','ptratio','black','lstat'])\n",
    "print(\"Below data is in NORMALIZED FORM\")\n",
    "print(df)"
   ]
  },
  {
   "cell_type": "code",
   "execution_count": 37,
   "metadata": {},
   "outputs": [
    {
     "name": "stdout",
     "output_type": "stream",
     "text": [
      "\n",
      "Enter the index no from above data for which you want to predict price,and data is in NORMALIZED FORM: 25\n",
      "\n",
      "PREDICTED PRICE OF HOUSE IS:  23.89705411939641\n",
      "ORIGINAL PRICE OF HOUSE IS :  24.4\n",
      "\n",
      "image of your house is as below\n"
     ]
    }
   ],
   "source": [
    "ind=int(input(\"\\nEnter the index no from above data for which you want to predict price,and data is in NORMALIZED FORM: \"))\n",
    "price=lin.predict([X_test[ind]])\n",
    "if(ind<20):\n",
    "    flag=1\n",
    "elif(ind>=20 and ind<=35):\n",
    "    flag=2\n",
    "else:\n",
    "    flag=3\n",
    "print(\"\\nPREDICTED PRICE OF HOUSE IS: \",price[0])\n",
    "print(\"ORIGINAL PRICE OF HOUSE IS : \",Y_test[ind])\n",
    "print(\"\\nimage of your house is as below\")\n",
    "if(flag==1):\n",
    "    cv2.imshow('image1',img1)\n",
    "    cv2.waitKey(0)\n",
    "    cv2.destroyAllWindows()\n",
    "elif(flag==2):\n",
    "    cv2.imshow('image2',img2)\n",
    "    cv2.waitKey(0)\n",
    "    cv2.destroyAllWindows()\n",
    "elif(flag==3):\n",
    "    cv2.imshow('image3',img3)\n",
    "    cv2.waitKey(0)\n",
    "    cv2.destroyAllWindows()"
   ]
  },
  {
   "cell_type": "code",
   "execution_count": null,
   "metadata": {},
   "outputs": [],
   "source": []
  }
 ],
 "metadata": {
  "kernelspec": {
   "display_name": "Python 3",
   "language": "python",
   "name": "python3"
  },
  "language_info": {
   "codemirror_mode": {
    "name": "ipython",
    "version": 3
   },
   "file_extension": ".py",
   "mimetype": "text/x-python",
   "name": "python",
   "nbconvert_exporter": "python",
   "pygments_lexer": "ipython3",
   "version": "3.7.4"
  }
 },
 "nbformat": 4,
 "nbformat_minor": 2
}
